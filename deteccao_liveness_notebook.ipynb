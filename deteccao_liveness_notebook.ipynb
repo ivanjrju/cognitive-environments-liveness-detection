{
  "cells": [
    {
      "cell_type": "markdown",
      "metadata": {
        "id": "O1ZrYJQyDx5p"
      },
      "source": [
        "# MBA FIAP Inteligência Artificial & Machine Learning\n",
        "\n",
        "## Visão Computacional: Análise de Imagens Médicas\n",
        "\n",
        "> Atenção: este notebook foi desenhado para funcionar no **Google Collab**.\n",
        "\n",
        "\n",
        "## 1. Introdução\n",
        "\n",
        "Uma determinada fintech focada em consumidores finais pessoa física constataou um grande número de fraudes em transações bancárias.\n",
        "\n",
        "O setor de fraudes apontou que existem clientes que se queixaram de não contratar serviços específicos, como o crédito pessoal, e após isso transferir para outras contas desconhecidas.\n",
        "\n",
        "Após análises pelas equipes de segurança, os protocolos de utilização da senha foram realizados em conformidade, ou seja, cada cliente autenticou com sua própria senha de maneira regular.\n",
        "\n",
        "Em função disso, o banco precisa arcar com reembolsos e medidas de contenção para evitar processos judiciais, pois os clientes alegam terem sido invadidos por hackers ou algo parecido.\n",
        "\n",
        "Uma das formas de solucionar ou minimizar este problema é com a utilização de outras formas de autenticação, sobretudo em operações críticas, como a obtenção de crédito pessoal.\n",
        "\n",
        "Desta forma podemos implementar uma verificação de identidade com prova de vida (liveness), que utilize uma verificação e identificação facial.\n",
        "\n",
        "Caso o cliente não seja autenticado, ele será atendido por uma esteira dedicada e as evidências da não identificação serão encaminhadas para a área de IA para validação dos parâmetros e limiares para aperfeiçoamento do modelo.\n",
        "\n",
        "Será necessário construir:\n",
        "\n",
        "* Detector de faces\n",
        "* Identificação de faces (podendo ser um comparador entre um rosto de documento e outra da prova de vida)\n",
        "* Detecção de vivacidade (liveness) para evitar que um fraudador utilize uma foto estática.\n",
        "\n",
        "\n",
        ">Formas alternativas de prover a identificação e prova de vivacidade, além destas que foram solicitadas poderão ser submetidas.\n",
        "\n",
        "\n",
        "<p align=\"center\">\n",
        "    <img src=\"https://github.com/michelpf/fiap-ml-visao-computacional-detector-liveness/blob/master/notebook/imagens/liveness.jpg?raw=1\">\n",
        "</p>\n",
        "\n",
        "Imagem retirada do [Grunge](https://www.grunge.com/192826/company-testing-robocop-facial-recognition-software-with-us-police/).\n",
        "\n",
        "## 2. Instruções\n",
        "\n",
        "Este projeto final tem como objetivo explorar os conhecimentos adquiridos nas aulas práticas.\n",
        "\n",
        "Iremos constuir uma forma de validar se uma determinada imagem foi ou não adulterada e se trata de uma produção fraudade.\n",
        "\n",
        "Existem diversas formas de validar a vivacidade, e neste sentido conto com a criatividade de vocês dado que já dominam encontrar uma face numa imagem, aplicar marcos faciais e até mesmo construir uma rede neural convulacional.\n",
        "\n",
        "A abordagem mais simples é pela construção de uma rede neural com imagens de fotos de rostos de outras fotos e fotos de rostos sem modificações. Tal classificador deverá classificar se dada imagem possui vivacidade ou não com uma pontuação de probabilidade.\n",
        "\n",
        "Referências que abordam o tema para servir de inspiração:\n",
        "\n",
        "1. [PyImageSearch](https://pyimagesearch.com/2019/03/11/liveness-detection-with-opencv/), Liveness detection with OpenCV;\n",
        "2. [Kickertech](https://kickertech.com/face-liveness-detection-via-opencv-and-tensorflow/), Liveness detection via OpenCV and Tensorflow.\n",
        "3. [Towards Data Science](https://towardsdatascience.com/real-time-face-liveness-detection-with-python-keras-and-opencv-c35dc70dafd3?gi=24f8e1b740f9), Real-time face liveness detection with Python, Keras and OpenCV.\n",
        "\n",
        "Este projeto poderá ser feita por grupos de até 4 pessoas.\n",
        "Caso este projeto seja substitutivo, deverá ser realizado por apenas uma pessoa.\n",
        "\n",
        "| Nome dos Integrantes               | RM            | Turma   |\n",
        "| :-----------------------           | :-------------| :-----: |\n",
        "| Bruno Gonçalves de Jesus           | RM 350868     | 5DTSR   |\n",
        "| Caroline Cicelini Cubas de Souza   | RM 351326     | 5DTSR   |\n",
        "| Fernando Carrion Coronado          | RM 350662     | 5DTSR   |\n",
        "| Ivan da Silva Dias Junior          | RM 351680     | 5DTSR   |"
      ]
    },
    {
      "cell_type": "markdown",
      "metadata": {
        "id": "oYmSY6ZbDx5w"
      },
      "source": [
        "## 3. Abordagem e organização da solução do problema (2 pontos)\n",
        "\n",
        "Como o grupo pretende deteccar a prova de vivacidade de uma determinada imagem? Quais os passos e os building blocks deste processo?"
      ]
    },
    {
      "cell_type": "markdown",
      "metadata": {
        "id": "VYzbx3WoDx5w"
      },
      "source": [
        "**Resposta**: Para detectar a prova de vivacidade de uma determinada imagem, nós utilizamos a Rekognition da AWS - Detect Face Liveness."
      ]
    },
    {
      "cell_type": "markdown",
      "metadata": {
        "id": "zy7cRnjoDx5w"
      },
      "source": [
        "## 4 Desenvolvimento da solução (5,5 pontos)\n",
        "\n",
        "Detalhe o passo-a-passo do algoritmo de deteção de vivacidade.\n",
        "Se optar pela construção e treinamento de um modelo de redes neurais convulucionais, apresente a arquitetura, prepare os dados de treinamento, realize o treinamento."
      ]
    },
    {
      "cell_type": "markdown",
      "metadata": {
        "id": "F5TEqXAMDx5x"
      },
      "source": [
        "### 4.1 Organização de dados para treinamento de modelo de liveness (2 pontos)"
      ]
    },
    {
      "cell_type": "markdown",
      "metadata": {},
      "source": [
        "**Resposta**: Nós utilizamos a Rekognition da AWS - Detect Face Liveness: separamos imagens de treino e teste de cada integrate do grupo, e rotulando-as em falso ou verdadeiro."
      ]
    },
    {
      "cell_type": "markdown",
      "metadata": {
        "id": "c9o4HNa0Dx5y"
      },
      "source": [
        "### 4.2 Treinamento de modelo de liveness (1,5 pontos)"
      ]
    },
    {
      "cell_type": "markdown",
      "metadata": {},
      "source": [
        "**Resposta**: Nós utilizamos a Rekognition da AWS - Detect Face Liveness: após subir e rotular as imagens, treinamos o modelo pela propria plataforma da AWS."
      ]
    },
    {
      "cell_type": "markdown",
      "metadata": {
        "id": "MILxPVVzDx5z"
      },
      "source": [
        "### 4.3 Métricas de desempenho do modelo (2 pontos)"
      ]
    },
    {
      "cell_type": "markdown",
      "metadata": {},
      "source": [
        "**Resposta**: Nós utilizamos a Rekognition da AWs - Detect Face Liveness: chegamos em um desempenho desejado, devolvendo exatamente as imagens falsas e verdadeiras (anexamos um video de todo o processo realizado)"
      ]
    },
    {
      "cell_type": "markdown",
      "metadata": {
        "id": "9zOFJJ28Dx50"
      },
      "source": [
        "## 5 Teste Fim-a-Fim\n",
        "\n",
        "Simule a operação fim-a-fim, com uma imagem de entrada forjada (foto de foto de um rosto) e outra com uma imagem de rosto, exibindo o resultado da classificação e a pontuação de cada classe."
      ]
    },
    {
      "cell_type": "code",
      "execution_count": 6,
      "metadata": {
        "id": "B9tzvUU4Dx50"
      },
      "outputs": [
        {
          "name": "stdout",
          "output_type": "stream",
          "text": [
            "Probabilidade da foto ser real é de 88.75%\n"
          ]
        }
      ],
      "source": [
        "#IMPLEMENTAR\n",
        "import boto3\n",
        "\n",
        "project_arn='arn:aws:rekognition:us-east-1:465575464224:project/detect_face_liveness/1722564559345'\n",
        "model_arn='arn:aws:rekognition:us-east-1:465575464224:project/detect_face_liveness/version/detect_face_liveness.2024-08-01T23.29.48/1722565788918'\n",
        "version_name='detect_face_liveness.2024-08-01T23.29.48'\n",
        "\n",
        "client = boto3.client('rekognition', region_name='us-east-1')\n",
        "\n",
        "project_version_running_waiter = client.get_waiter('project_version_running')\n",
        "project_version_running_waiter.wait(ProjectArn=project_arn, VersionNames=[version_name])\n",
        "\n",
        "\n",
        "path = \"data/WhatsApp Image 2024-08-02 at 00.07.24.jpeg\"\n",
        "\n",
        "with open(path, \"rb\") as file:\n",
        "  img = file.read()\n",
        "  bytes_img = bytearray(img)\n",
        "\n",
        "response = client.detect_custom_labels(\n",
        "    Image={'Bytes': bytes_img},\n",
        "        MinConfidence=50,\n",
        "        ProjectVersionArn=model_arn)\n",
        "\n",
        "label = response['CustomLabels'][0]['Name']\n",
        "confidence = response['CustomLabels'][0]['Confidence']\n",
        "\n",
        "if(label == \"real\"):\n",
        "  print(\"Probabilidade da foto ser real é de {:.2f}%\".format(confidence))\n",
        "else:\n",
        "  print(\"Probabilidade da foto ser falsa é de {:.2f}%\".format(confidence))"
      ]
    },
    {
      "cell_type": "markdown",
      "metadata": {
        "id": "hrQXq-DMDx51"
      },
      "source": [
        ">Com a implementação da solução na forma de uma aplicação do [Streamlit](https://www.streamlit.io/) (veja a pata streamlit-app e use o template) vale 1 ponto adicional."
      ]
    },
    {
      "cell_type": "markdown",
      "metadata": {
        "id": "YzjNnCUFDx51"
      },
      "source": [
        "**Pergunta**: Se utilizou o Streamlit, compartilhe a URL do aplicativo publicado:"
      ]
    },
    {
      "cell_type": "markdown",
      "metadata": {
        "id": "gs2R1GZEDx52"
      },
      "source": [
        "**Resposta**: https://cognitive-environments-liveness-detection.streamlit.app/"
      ]
    },
    {
      "cell_type": "markdown",
      "metadata": {
        "id": "9NXBRgt_Dx52"
      },
      "source": [
        "## 6 Conclusões (2,5 pontos)\n",
        "\n",
        "**Pergunta**: Dado todo o estudo e pesquisa, quais foram as conclusões sobre a solução, o que funcionou, o que não funcionou e quais os detalhes que observariam numa nova versão e melhorias do processo?"
      ]
    },
    {
      "cell_type": "markdown",
      "metadata": {
        "id": "XID6cP_LDx52"
      },
      "source": [
        "**Resposta**: Nós utilizamos a Rekognition da AWS - Detect Face Liveness para treinar o nosso modelo, identificamos que é um produto muito intuitivo tanto na interface da AWS, quanto na sua API. Além disso, é um modelo que gerou muita assertividade nas imagens que treinamos, nos levando a questionar o quanto seria aplicavel em uma escalabilidade para uma empresa de grande porte, e vale analisar, pois é uma ferramenta bem interessante. Porém, é claro, precisariamos levar em consideração muito mais imagens de treino e teste para agrantir uma assertividade impecavel."
      ]
    }
  ],
  "metadata": {
    "colab": {
      "provenance": []
    },
    "kernelspec": {
      "display_name": "Python 3.9.13 ('.venv': venv)",
      "language": "python",
      "name": "python3"
    },
    "language_info": {
      "codemirror_mode": {
        "name": "ipython",
        "version": 3
      },
      "file_extension": ".py",
      "mimetype": "text/x-python",
      "name": "python",
      "nbconvert_exporter": "python",
      "pygments_lexer": "ipython3",
      "version": "3.11.4"
    },
    "vscode": {
      "interpreter": {
        "hash": "733a071da2455ea0e8bdf5409a7097e630ac701195faf55c6e985d77ee3ec176"
      }
    }
  },
  "nbformat": 4,
  "nbformat_minor": 0
}
